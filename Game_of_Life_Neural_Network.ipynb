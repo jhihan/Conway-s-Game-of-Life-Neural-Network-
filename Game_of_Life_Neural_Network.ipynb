{
  "nbformat": 4,
  "nbformat_minor": 0,
  "metadata": {
    "colab": {
      "name": "Game_of_Life_Neural Network.ipynb",
      "provenance": [],
      "authorship_tag": "ABX9TyPFGYTP1OYPI89zJnvFc71t",
      "include_colab_link": true
    },
    "kernelspec": {
      "name": "python3",
      "display_name": "Python 3"
    },
    "accelerator": "GPU"
  },
  "cells": [
    {
      "cell_type": "markdown",
      "metadata": {
        "id": "view-in-github",
        "colab_type": "text"
      },
      "source": [
        "<a href=\"https://colab.research.google.com/github/jhihan/Conway-s-Game-of-Life-Neural-Network-/blob/master/Game_of_Life_Neural_Network.ipynb\" target=\"_parent\"><img src=\"https://colab.research.google.com/assets/colab-badge.svg\" alt=\"Open In Colab\"/></a>"
      ]
    },
    {
      "cell_type": "markdown",
      "metadata": {
        "id": "MhE5KLl9z_9J",
        "colab_type": "text"
      },
      "source": [
        "# Conway's Game of Life\n",
        "## Rule of Conway's Game of Life\n",
        "The follwing states is copied from wikipedia page of [Conway's Game of Life](https://en.wikipedia.org/wiki/Conway%27s_Game_of_Life):\n",
        "\n",
        "---\n",
        "The universe of the Game of Life is an infinite, two-dimensional orthogonal grid of square cells, each of which is in one of two possible states, alive or dead, (or populated and unpopulated, respectively). Every cell interacts with its eight neighbours, which are the cells that are horizontally, vertically, or diagonally adjacent. At each step in time, the following transitions occur:\n",
        "\n",
        "* Any live cell with fewer than two live neighbours dies, as if by underpopulation.\n",
        "* Any live cell with two or three live neighbours lives on to the next generation.\n",
        "* Any live cell with more than three live neighbours dies, as if by overpopulation.\n",
        "* Any dead cell with exactly three live neighbours becomes a live cell, as if by reproduction.\n",
        "\n",
        "---\n",
        "We can change rules by assigning the number of live neighbors (n_rebirth) which ensures the cell live and rebirth. For example, the original rules is n_rebirth =3: the cell can live or rebirth with 3 (n_rebirth) live neighbours, and the live cell which can still survive with 2 (n_rebirth-1) live neighbors. We can change the rules by setting n_rebirth to be between 2 and 8.\n",
        "## Goal\n",
        "The goal of this project is using deep learning methods to train the machine to :\n",
        "\n",
        "1. predict the pattern evolution without knowing the rule\n",
        "2. infere the rules from the given pattern evolutions which are produced by different rules (the model doesn't know the rules in the beginning). \n",
        "\n"
      ]
    },
    {
      "cell_type": "code",
      "metadata": {
        "id": "wxQrs5XsLTCT",
        "colab_type": "code",
        "colab": {}
      },
      "source": [
        "import numpy as np\n",
        "import matplotlib.pyplot as plt\n",
        "from keras.models import Sequential\n",
        "from keras.layers import Dense, Dropout, Activation, Conv2D, MaxPool2D, Flatten, SimpleRNN, TimeDistributed, LSTM\n",
        "from keras.utils import np_utils\n",
        "import random\n",
        "from sklearn.preprocessing import LabelEncoder\n",
        "from sklearn.preprocessing import OneHotEncoder\n",
        "import pandas as pd"
      ],
      "execution_count": 0,
      "outputs": []
    },
    {
      "cell_type": "markdown",
      "metadata": {
        "id": "lWU02b4vJUhF",
        "colab_type": "text"
      },
      "source": [
        "Define the basic functions. The function life_step determines the next pattern with the current pattern and the given rules. The parameter \"edge\" determines how to deal with the behavior in the boundary. The original Conway's game of life have infinite rnage. For simplicity, here we define two scenario: \n",
        "\n",
        "1. edge = \"wrapped\": The boarders are wrapped:\n",
        "\n",
        " * The top row wraps to the bottom row.\n",
        " * The left side row wraps to the right side row (and vice versa).\n",
        " * The top-left cell wraps to the bottom-right cell (and vice versa).\n",
        "\n",
        "2. edge = \"die\" : The cells outside the boarder are considered as dead cells."
      ]
    },
    {
      "cell_type": "code",
      "metadata": {
        "id": "O7diflKBRY3J",
        "colab_type": "code",
        "colab": {}
      },
      "source": [
        "def life_step(X, N_rebirth = 3, edge = 'wrapped' ):\n",
        "    assert (N_rebirth >1 or N_rebirth < 9 ), \"N_rebirth should be between[2,8]\"\n",
        "    assert (edge == 'wrapped' or edge == 'die'), \"x should be 'wrapped'(default) or 'die'\"\n",
        "    if( edge == 'wrapped' ):\n",
        "      live_neighbors = sum(np.roll(np.roll(X, i, 0), j, 1)\n",
        "                       for i in (-1, 0, 1) for j in (-1, 0, 1)\n",
        "                       if (i != 0 or j != 0))\n",
        "    elif( edge == 'die' ):\n",
        "      pad_width = {1: (1,0) , 0: (0,0) , -1: (0,1)}\n",
        "      slice0 = {1: slice(0,-1) , 0: slice(0,X.shape[0]) , -1: slice(1,X.shape[0]+1)}\n",
        "      slice1 = {1: slice(0,-1) , 0: slice(0,X.shape[1]) , -1: slice(1,X.shape[1]+1)}\n",
        "      live_neighbors = sum( np.pad(X,(pad_width[i],pad_width[j]) , mode='constant')[slice0[i],slice0[j]]\n",
        "                           for i in (-1, 0, 1) for j in (-1, 0, 1)\n",
        "                           if (i != 0 or j != 0))\n",
        "      \n",
        "    return (live_neighbors == N_rebirth) | (X & (live_neighbors == N_rebirth-1)).astype(int)\n",
        "def generate_frames(num_frames, board_shape=(100,100), prob_alive=0.15):\n",
        "    return np.array([\n",
        "        np.random.choice([False, True], size=board_shape, p=[1-prob_alive, prob_alive])\n",
        "        for _ in range(num_frames)\n",
        "    ]).astype(int)\n",
        "\n",
        "def render_frames(frame1, frame2):\n",
        "    plt.subplot(1, 2, 1)\n",
        "    plt.imshow(frame1.flatten().reshape(board_shape), cmap='gray')\n",
        "\n",
        "    plt.subplot(1, 2, 2)\n",
        "    plt.imshow(frame2.flatten().reshape(board_shape), cmap='gray')    "
      ],
      "execution_count": 0,
      "outputs": []
    },
    {
      "cell_type": "code",
      "metadata": {
        "id": "sKR-tZz6SM8V",
        "colab_type": "code",
        "outputId": "9c4cfc63-5445-478d-9ca1-0dff2e50bcc4",
        "colab": {
          "base_uri": "https://localhost:8080/",
          "height": 34
        }
      },
      "source": [
        "board_shape = (20, 20)\n",
        "board_size = board_shape[0] * board_shape[1]\n",
        "probability_alive = 0.15\n",
        "edge = 'wrapped'\n",
        "\n",
        "frames = generate_frames(10, board_shape=board_shape, prob_alive=probability_alive)\n",
        "print(frames.shape) # (num_frames, board_w, board_h)"
      ],
      "execution_count": 3,
      "outputs": [
        {
          "output_type": "stream",
          "text": [
            "(10, 20, 20)\n"
          ],
          "name": "stdout"
        }
      ]
    },
    {
      "cell_type": "code",
      "metadata": {
        "id": "aqm6ZeJ-STbM",
        "colab_type": "code",
        "outputId": "0e1c7019-8547-4061-c328-1f1bf789cd62",
        "colab": {
          "base_uri": "https://localhost:8080/",
          "height": 200
        }
      },
      "source": [
        "render_frames(frames[1], life_step(frames[1],3,edge) )"
      ],
      "execution_count": 4,
      "outputs": [
        {
          "output_type": "display_data",
          "data": {
            "image/png": "[encoded data removed]",
            "text/plain": [
              "<Figure size 432x288 with 2 Axes>"
            ]
          },
          "metadata": {
            "tags": [],
            "needs_background": "light"
          }
        }
      ]
    },
    {
      "cell_type": "code",
      "metadata": {
        "id": "rvou39y-g4iT",
        "colab_type": "code",
        "outputId": "d3ac3c3e-e172-4536-a4fa-a5f36218cb5d",
        "colab": {
          "base_uri": "https://localhost:8080/",
          "height": 200
        }
      },
      "source": [
        "board_shape = (20, 20)\n",
        "board_size = board_shape[0] * board_shape[1]\n",
        "probability_alive = 0.5\n",
        "edge = 'wrapped'\n",
        "\n",
        "frames = generate_frames(10, board_shape=board_shape, prob_alive=probability_alive)\n",
        "render_frames(frames[1], life_step(frames[1],3,edge) )"
      ],
      "execution_count": 5,
      "outputs": [
        {
          "output_type": "display_data",
          "data": {
            "image/png": "[encoded data removed]",
            "text/plain": [
              "<Figure size 432x288 with 2 Axes>"
            ]
          },
          "metadata": {
            "tags": [],
            "needs_background": "light"
          }
        }
      ]
    },
    {
      "cell_type": "markdown",
      "metadata": {
        "id": "_LYksFtzLzWo",
        "colab_type": "text"
      },
      "source": [
        "Define the function generating the datasets, which contains a set of current pattern and the next pattern."
      ]
    },
    {
      "cell_type": "code",
      "metadata": {
        "id": "-v3iaGOCk_gA",
        "colab_type": "code",
        "colab": {}
      },
      "source": [
        "def reshape_input(X):\n",
        "    return X.reshape(X.shape[0], X.shape[1], X.shape[2], 1)\n",
        "\n",
        "def generate_dataset(num_frames, board_shape, prob_alive, N_rebirth, edge = 'wrapped'):\n",
        "    X = generate_frames(num_frames, board_shape=board_shape, prob_alive=prob_alive)\n",
        "    X = reshape_input(X)\n",
        "    y = np.array([\n",
        "        life_step(frame,N_rebirth, edge) \n",
        "        for frame in X\n",
        "    ])\n",
        "    return X, y\n",
        "\n",
        "def generate_life_series(num_frames, board_shape, prob_alive, N_rebirth, edge = 'wrapped'):\n",
        "    X = np.array(np.random.choice([False, True], size=board_shape, p=[1-prob_alive, prob_alive])).astype(int)\n",
        "    X = [ X.reshape(X.shape[0], X.shape[1], 1) ]\n",
        "    \n",
        "    for i in range(num_frames-1):\n",
        "      X.append( life_step(X[-1],N_rebirth, edge) )\n",
        "\n",
        "    return np.array(X)\n",
        "\n",
        "train_size = 70000\n",
        "val_size   = 10000\n",
        "test_size  = 20000"
      ],
      "execution_count": 0,
      "outputs": []
    },
    {
      "cell_type": "code",
      "metadata": {
        "id": "DY5IRxduyP-e",
        "colab_type": "code",
        "outputId": "9ffcf0a2-2be1-4b44-abe9-53888d8db5cc",
        "colab": {
          "base_uri": "https://localhost:8080/",
          "height": 200
        }
      },
      "source": [
        "render_frames(X_series[2], life_step(X_series[1],N_rebirth=3,edge) )"
      ],
      "execution_count": 0,
      "outputs": [
        {
          "output_type": "display_data",
          "data": {
            "image/png": "[encoded data removed]",
            "text/plain": [
              "<Figure size 432x288 with 2 Axes>"
            ]
          },
          "metadata": {
            "tags": [],
            "needs_background": "light"
          }
        }
      ]
    },
    {
      "cell_type": "markdown",
      "metadata": {
        "id": "xDn_Whu7U7vt",
        "colab_type": "text"
      },
      "source": [
        "Create the datasets"
      ]
    },
    {
      "cell_type": "code",
      "metadata": {
        "id": "vJM89evllBI0",
        "colab_type": "code",
        "outputId": "d2f6d6c0-caef-433f-f49a-7e7c7cfc8469",
        "colab": {
          "base_uri": "https://localhost:8080/",
          "height": 68
        }
      },
      "source": [
        "print(\"Training Set:\")\n",
        "X_train, y_train = generate_dataset(train_size, board_shape, probability_alive, 3)\n",
        "print(X_train.shape)\n",
        "print(y_train.shape)\n",
        "print(\"Validation Set:\")\n",
        "X_val, y_val = generate_dataset(val_size, board_shape, probability_alive, 3)\n",
        "print(X_val.shape)\n",
        "print(y_val.shape)\n",
        "print(\"Test Set:\")\n",
        "X_test, y_test = generate_dataset(test_size, board_shape, probability_alive, 3)\n",
        "print(X_test.shape)\n",
        "print(y_test.shape)"
      ],
      "execution_count": 0,
      "outputs": [
        {
          "output_type": "stream",
          "text": [
            "Training Set:\n",
            "(70000, 20, 20, 1)\n",
            "(70000, 20, 20, 1)\n"
          ],
          "name": "stdout"
        }
      ]
    },
    {
      "cell_type": "code",
      "metadata": {
        "id": "Bco--NMea5iI",
        "colab_type": "code",
        "outputId": "8a1b4ee3-162d-4b44-d10b-2955ba3dcf30",
        "colab": {
          "base_uri": "https://localhost:8080/",
          "height": 68
        }
      },
      "source": [
        ""
      ],
      "execution_count": 0,
      "outputs": [
        {
          "output_type": "stream",
          "text": [
            "Validation Set:\n",
            "(10000, 20, 20, 1)\n",
            "(10000, 20, 20, 1)\n"
          ],
          "name": "stdout"
        }
      ]
    },
    {
      "cell_type": "code",
      "metadata": {
        "id": "m2zfh9NjbDw4",
        "colab_type": "code",
        "outputId": "b8126468-034f-48c0-88ba-ee6b9f6c69eb",
        "colab": {
          "base_uri": "https://localhost:8080/",
          "height": 68
        }
      },
      "source": [
        ""
      ],
      "execution_count": 0,
      "outputs": [
        {
          "output_type": "stream",
          "text": [
            "Test Set:\n",
            "(20000, 20, 20, 1)\n",
            "(20000, 20, 20, 1)\n"
          ],
          "name": "stdout"
        }
      ]
    },
    {
      "cell_type": "markdown",
      "metadata": {
        "id": "Duwg_S5hTKfc",
        "colab_type": "text"
      },
      "source": [
        "With the given sets of the initial patterns and the next generations,  building a model which can predict the next generations without knowing the rules"
      ]
    },
    {
      "cell_type": "code",
      "metadata": {
        "id": "3Ij0ih6y9WFL",
        "colab_type": "code",
        "colab": {}
      },
      "source": [
        "# CNN Properties\n",
        "filters = 16\n",
        "kernel_size = (3, 3) # look at all 8 neighboring cells, plus itself\n",
        "strides = 1\n",
        "hidden_dims = 100\n",
        "input_shape = (board_shape[0] + 2, board_shape[1] + 2, 1) if edge == 'wrapped'   else (board_shape[0], board_shape[1], 1)"
      ],
      "execution_count": 0,
      "outputs": []
    },
    {
      "cell_type": "code",
      "metadata": {
        "id": "l5SKhqAh9WA_",
        "colab_type": "code",
        "colab": {}
      },
      "source": [
        "model = Sequential()\n",
        "model.add(Conv2D(\n",
        "    filters, \n",
        "    kernel_size,\n",
        "    padding='valid',\n",
        "    activation='relu',\n",
        "    strides=strides,\n",
        "    input_shape=input_shape\n",
        "))\n",
        "model.add(Dense(hidden_dims))\n",
        "model.add(Dense(1))\n",
        "model.add(Activation('sigmoid'))\n",
        "\n",
        "model.compile(loss='binary_crossentropy', optimizer='adam', metrics=['accuracy'])\n"
      ],
      "execution_count": 0,
      "outputs": []
    },
    {
      "cell_type": "code",
      "metadata": {
        "id": "PYCFG4HB9V8T",
        "colab_type": "code",
        "outputId": "086eeb9a-b022-408f-94cf-325de4d1fbe6",
        "colab": {
          "base_uri": "https://localhost:8080/",
          "height": 289
        }
      },
      "source": [
        "model.summary()"
      ],
      "execution_count": 31,
      "outputs": [
        {
          "output_type": "stream",
          "text": [
            "Model: \"sequential_5\"\n",
            "_________________________________________________________________\n",
            "Layer (type)                 Output Shape              Param #   \n",
            "=================================================================\n",
            "conv2d_4 (Conv2D)            (None, 20, 20, 16)        160       \n",
            "_________________________________________________________________\n",
            "dense_5 (Dense)              (None, 20, 20, 100)       1700      \n",
            "_________________________________________________________________\n",
            "dense_6 (Dense)              (None, 20, 20, 1)         101       \n",
            "_________________________________________________________________\n",
            "activation_1 (Activation)    (None, 20, 20, 1)         0         \n",
            "=================================================================\n",
            "Total params: 1,961\n",
            "Trainable params: 1,961\n",
            "Non-trainable params: 0\n",
            "_________________________________________________________________\n"
          ],
          "name": "stdout"
        }
      ]
    },
    {
      "cell_type": "markdown",
      "metadata": {
        "id": "6RcbF3rPUP-2",
        "colab_type": "text"
      },
      "source": [
        ""
      ]
    },
    {
      "cell_type": "code",
      "metadata": {
        "id": "sSShzXT79ieA",
        "colab_type": "code",
        "colab": {}
      },
      "source": [
        "def pad_input(X):\n",
        "    return reshape_input(np.array([\n",
        "        np.pad(x.reshape(board_shape), (1,1), mode='wrap')\n",
        "        for x in X\n",
        "    ]))\n",
        "def train(model, X_train, y_train, X_val, y_val, batch_size=50, epochs=150, edge = 'wrapped' ):\n",
        "    X_train = pad_input(X_train) if edge == 'wrapped' else X_train\n",
        "    X_val = pad_input(X_val) if edge == 'wrapped' else X_val\n",
        "    history = model.fit(\n",
        "              X_train, y_train, \n",
        "              batch_size=batch_size, \n",
        "              epochs=epochs,\n",
        "              validation_data=(X_val, y_val)\n",
        "    )\n",
        "    return history\n",
        "    "
      ],
      "execution_count": 0,
      "outputs": []
    },
    {
      "cell_type": "code",
      "metadata": {
        "id": "6AEuwNtH9msx",
        "colab_type": "code",
        "outputId": "581e9c99-ddd8-4c64-8283-134d9548fefb",
        "colab": {
          "base_uri": "https://localhost:8080/",
          "height": 1000
        }
      },
      "source": [
        "train(model, X_train[0:400], y_train[0:400], X_val[0:400], y_val[0:400])"
      ],
      "execution_count": 0,
      "outputs": [
        {
          "output_type": "stream",
          "text": [
            "Train on 400 samples, validate on 400 samples\n",
            "Epoch 1/150\n",
            "400/400 [==============================] - 0s 541us/step - loss: 0.6720 - accuracy: 0.7440 - val_loss: 0.6326 - val_accuracy: 0.8810\n",
            "Epoch 2/150\n",
            "400/400 [==============================] - 0s 133us/step - loss: 0.6048 - accuracy: 0.8824 - val_loss: 0.5710 - val_accuracy: 0.8810\n",
            "Epoch 3/150\n",
            "400/400 [==============================] - 0s 137us/step - loss: 0.5470 - accuracy: 0.8824 - val_loss: 0.5184 - val_accuracy: 0.8810\n",
            "Epoch 4/150\n",
            "400/400 [==============================] - 0s 128us/step - loss: 0.4982 - accuracy: 0.8824 - val_loss: 0.4766 - val_accuracy: 0.8810\n",
            "Epoch 5/150\n",
            "400/400 [==============================] - 0s 128us/step - loss: 0.4612 - accuracy: 0.8824 - val_loss: 0.4456 - val_accuracy: 0.8810\n",
            "Epoch 6/150\n",
            "400/400 [==============================] - 0s 130us/step - loss: 0.4327 - accuracy: 0.8824 - val_loss: 0.4207 - val_accuracy: 0.8810\n",
            "Epoch 7/150\n",
            "400/400 [==============================] - 0s 131us/step - loss: 0.4088 - accuracy: 0.8824 - val_loss: 0.3982 - val_accuracy: 0.8810\n",
            "Epoch 8/150\n",
            "400/400 [==============================] - 0s 130us/step - loss: 0.3868 - accuracy: 0.8824 - val_loss: 0.3776 - val_accuracy: 0.8810\n",
            "Epoch 9/150\n",
            "400/400 [==============================] - 0s 141us/step - loss: 0.3668 - accuracy: 0.8824 - val_loss: 0.3592 - val_accuracy: 0.8810\n",
            "Epoch 10/150\n",
            "400/400 [==============================] - 0s 143us/step - loss: 0.3491 - accuracy: 0.8824 - val_loss: 0.3427 - val_accuracy: 0.8810\n",
            "Epoch 11/150\n",
            "400/400 [==============================] - 0s 127us/step - loss: 0.3333 - accuracy: 0.8824 - val_loss: 0.3281 - val_accuracy: 0.8810\n",
            "Epoch 12/150\n",
            "400/400 [==============================] - 0s 140us/step - loss: 0.3194 - accuracy: 0.8824 - val_loss: 0.3152 - val_accuracy: 0.8810\n",
            "Epoch 13/150\n",
            "400/400 [==============================] - 0s 156us/step - loss: 0.3070 - accuracy: 0.8824 - val_loss: 0.3034 - val_accuracy: 0.8810\n",
            "Epoch 14/150\n",
            "400/400 [==============================] - 0s 138us/step - loss: 0.2955 - accuracy: 0.8824 - val_loss: 0.2923 - val_accuracy: 0.8810\n",
            "Epoch 15/150\n",
            "400/400 [==============================] - 0s 135us/step - loss: 0.2844 - accuracy: 0.8824 - val_loss: 0.2812 - val_accuracy: 0.8810\n",
            "Epoch 16/150\n",
            "400/400 [==============================] - 0s 134us/step - loss: 0.2730 - accuracy: 0.8824 - val_loss: 0.2694 - val_accuracy: 0.8810\n",
            "Epoch 17/150\n",
            "400/400 [==============================] - 0s 139us/step - loss: 0.2607 - accuracy: 0.8824 - val_loss: 0.2563 - val_accuracy: 0.8810\n",
            "Epoch 18/150\n",
            "400/400 [==============================] - 0s 128us/step - loss: 0.2465 - accuracy: 0.8824 - val_loss: 0.2407 - val_accuracy: 0.8809\n",
            "Epoch 19/150\n",
            "400/400 [==============================] - 0s 132us/step - loss: 0.2303 - accuracy: 0.8826 - val_loss: 0.2236 - val_accuracy: 0.8824\n",
            "Epoch 20/150\n",
            "400/400 [==============================] - 0s 130us/step - loss: 0.2131 - accuracy: 0.8862 - val_loss: 0.2066 - val_accuracy: 0.8875\n",
            "Epoch 21/150\n",
            "400/400 [==============================] - 0s 126us/step - loss: 0.1968 - accuracy: 0.8960 - val_loss: 0.1919 - val_accuracy: 0.9005\n",
            "Epoch 22/150\n",
            "400/400 [==============================] - 0s 135us/step - loss: 0.1834 - accuracy: 0.9078 - val_loss: 0.1801 - val_accuracy: 0.9165\n",
            "Epoch 23/150\n",
            "400/400 [==============================] - 0s 128us/step - loss: 0.1725 - accuracy: 0.9238 - val_loss: 0.1705 - val_accuracy: 0.9273\n",
            "Epoch 24/150\n",
            "400/400 [==============================] - 0s 136us/step - loss: 0.1640 - accuracy: 0.9312 - val_loss: 0.1632 - val_accuracy: 0.9297\n",
            "Epoch 25/150\n",
            "400/400 [==============================] - 0s 129us/step - loss: 0.1575 - accuracy: 0.9334 - val_loss: 0.1576 - val_accuracy: 0.9344\n",
            "Epoch 26/150\n",
            "400/400 [==============================] - 0s 130us/step - loss: 0.1524 - accuracy: 0.9374 - val_loss: 0.1531 - val_accuracy: 0.9389\n",
            "Epoch 27/150\n",
            "400/400 [==============================] - 0s 148us/step - loss: 0.1485 - accuracy: 0.9425 - val_loss: 0.1496 - val_accuracy: 0.9428\n",
            "Epoch 28/150\n",
            "400/400 [==============================] - 0s 137us/step - loss: 0.1452 - accuracy: 0.9445 - val_loss: 0.1467 - val_accuracy: 0.9428\n",
            "Epoch 29/150\n",
            "400/400 [==============================] - 0s 156us/step - loss: 0.1426 - accuracy: 0.9445 - val_loss: 0.1443 - val_accuracy: 0.9428\n",
            "Epoch 30/150\n",
            "400/400 [==============================] - 0s 144us/step - loss: 0.1403 - accuracy: 0.9458 - val_loss: 0.1422 - val_accuracy: 0.9455\n",
            "Epoch 31/150\n",
            "400/400 [==============================] - 0s 151us/step - loss: 0.1384 - accuracy: 0.9472 - val_loss: 0.1402 - val_accuracy: 0.9455\n",
            "Epoch 32/150\n",
            "400/400 [==============================] - 0s 126us/step - loss: 0.1365 - accuracy: 0.9481 - val_loss: 0.1385 - val_accuracy: 0.9491\n",
            "Epoch 33/150\n",
            "400/400 [==============================] - 0s 130us/step - loss: 0.1348 - accuracy: 0.9505 - val_loss: 0.1368 - val_accuracy: 0.9491\n",
            "Epoch 34/150\n",
            "400/400 [==============================] - 0s 135us/step - loss: 0.1332 - accuracy: 0.9511 - val_loss: 0.1352 - val_accuracy: 0.9504\n",
            "Epoch 35/150\n",
            "400/400 [==============================] - 0s 128us/step - loss: 0.1316 - accuracy: 0.9518 - val_loss: 0.1337 - val_accuracy: 0.9504\n",
            "Epoch 36/150\n",
            "400/400 [==============================] - 0s 140us/step - loss: 0.1302 - accuracy: 0.9517 - val_loss: 0.1323 - val_accuracy: 0.9505\n",
            "Epoch 37/150\n",
            "400/400 [==============================] - 0s 131us/step - loss: 0.1288 - accuracy: 0.9525 - val_loss: 0.1308 - val_accuracy: 0.9517\n",
            "Epoch 38/150\n",
            "400/400 [==============================] - 0s 129us/step - loss: 0.1274 - accuracy: 0.9539 - val_loss: 0.1294 - val_accuracy: 0.9529\n",
            "Epoch 39/150\n",
            "400/400 [==============================] - 0s 129us/step - loss: 0.1259 - accuracy: 0.9544 - val_loss: 0.1277 - val_accuracy: 0.9542\n",
            "Epoch 40/150\n",
            "400/400 [==============================] - 0s 130us/step - loss: 0.1241 - accuracy: 0.9560 - val_loss: 0.1258 - val_accuracy: 0.9553\n",
            "Epoch 41/150\n",
            "400/400 [==============================] - 0s 143us/step - loss: 0.1222 - accuracy: 0.9573 - val_loss: 0.1239 - val_accuracy: 0.9566\n",
            "Epoch 42/150\n",
            "400/400 [==============================] - 0s 132us/step - loss: 0.1205 - accuracy: 0.9563 - val_loss: 0.1222 - val_accuracy: 0.9554\n",
            "Epoch 43/150\n",
            "400/400 [==============================] - 0s 129us/step - loss: 0.1188 - accuracy: 0.9579 - val_loss: 0.1204 - val_accuracy: 0.9581\n",
            "Epoch 44/150\n",
            "400/400 [==============================] - 0s 127us/step - loss: 0.1170 - accuracy: 0.9592 - val_loss: 0.1186 - val_accuracy: 0.9581\n",
            "Epoch 45/150\n",
            "400/400 [==============================] - 0s 147us/step - loss: 0.1154 - accuracy: 0.9592 - val_loss: 0.1170 - val_accuracy: 0.9581\n",
            "Epoch 46/150\n",
            "400/400 [==============================] - 0s 128us/step - loss: 0.1139 - accuracy: 0.9592 - val_loss: 0.1156 - val_accuracy: 0.9581\n",
            "Epoch 47/150\n",
            "400/400 [==============================] - 0s 141us/step - loss: 0.1124 - accuracy: 0.9588 - val_loss: 0.1142 - val_accuracy: 0.9581\n",
            "Epoch 48/150\n",
            "400/400 [==============================] - 0s 138us/step - loss: 0.1111 - accuracy: 0.9611 - val_loss: 0.1129 - val_accuracy: 0.9593\n",
            "Epoch 49/150\n",
            "400/400 [==============================] - 0s 149us/step - loss: 0.1098 - accuracy: 0.9614 - val_loss: 0.1114 - val_accuracy: 0.9594\n",
            "Epoch 50/150\n",
            "400/400 [==============================] - 0s 130us/step - loss: 0.1081 - accuracy: 0.9603 - val_loss: 0.1092 - val_accuracy: 0.9606\n",
            "Epoch 51/150\n",
            "400/400 [==============================] - 0s 140us/step - loss: 0.1055 - accuracy: 0.9616 - val_loss: 0.1062 - val_accuracy: 0.9606\n",
            "Epoch 52/150\n",
            "400/400 [==============================] - 0s 132us/step - loss: 0.1026 - accuracy: 0.9619 - val_loss: 0.1031 - val_accuracy: 0.9620\n",
            "Epoch 53/150\n",
            "400/400 [==============================] - 0s 128us/step - loss: 0.0995 - accuracy: 0.9631 - val_loss: 0.1000 - val_accuracy: 0.9633\n",
            "Epoch 54/150\n",
            "400/400 [==============================] - 0s 127us/step - loss: 0.0964 - accuracy: 0.9654 - val_loss: 0.0969 - val_accuracy: 0.9659\n",
            "Epoch 55/150\n",
            "400/400 [==============================] - 0s 130us/step - loss: 0.0937 - accuracy: 0.9667 - val_loss: 0.0946 - val_accuracy: 0.9659\n",
            "Epoch 56/150\n",
            "400/400 [==============================] - 0s 130us/step - loss: 0.0916 - accuracy: 0.9670 - val_loss: 0.0926 - val_accuracy: 0.9659\n",
            "Epoch 57/150\n",
            "400/400 [==============================] - 0s 133us/step - loss: 0.0897 - accuracy: 0.9678 - val_loss: 0.0910 - val_accuracy: 0.9673\n",
            "Epoch 58/150\n",
            "400/400 [==============================] - 0s 128us/step - loss: 0.0884 - accuracy: 0.9682 - val_loss: 0.0896 - val_accuracy: 0.9673\n",
            "Epoch 59/150\n",
            "400/400 [==============================] - 0s 131us/step - loss: 0.0870 - accuracy: 0.9692 - val_loss: 0.0883 - val_accuracy: 0.9686\n",
            "Epoch 60/150\n",
            "400/400 [==============================] - 0s 132us/step - loss: 0.0857 - accuracy: 0.9695 - val_loss: 0.0870 - val_accuracy: 0.9686\n",
            "Epoch 61/150\n",
            "400/400 [==============================] - 0s 134us/step - loss: 0.0845 - accuracy: 0.9696 - val_loss: 0.0857 - val_accuracy: 0.9697\n",
            "Epoch 62/150\n",
            "400/400 [==============================] - 0s 134us/step - loss: 0.0832 - accuracy: 0.9707 - val_loss: 0.0844 - val_accuracy: 0.9710\n",
            "Epoch 63/150\n",
            "400/400 [==============================] - 0s 150us/step - loss: 0.0820 - accuracy: 0.9717 - val_loss: 0.0832 - val_accuracy: 0.9721\n",
            "Epoch 64/150\n",
            "400/400 [==============================] - 0s 130us/step - loss: 0.0808 - accuracy: 0.9729 - val_loss: 0.0820 - val_accuracy: 0.9721\n",
            "Epoch 65/150\n",
            "400/400 [==============================] - 0s 143us/step - loss: 0.0796 - accuracy: 0.9729 - val_loss: 0.0807 - val_accuracy: 0.9721\n",
            "Epoch 66/150\n",
            "400/400 [==============================] - 0s 136us/step - loss: 0.0783 - accuracy: 0.9729 - val_loss: 0.0795 - val_accuracy: 0.9721\n",
            "Epoch 67/150\n",
            "400/400 [==============================] - 0s 154us/step - loss: 0.0771 - accuracy: 0.9729 - val_loss: 0.0783 - val_accuracy: 0.9721\n",
            "Epoch 68/150\n",
            "400/400 [==============================] - 0s 130us/step - loss: 0.0759 - accuracy: 0.9741 - val_loss: 0.0770 - val_accuracy: 0.9747\n",
            "Epoch 69/150\n",
            "400/400 [==============================] - 0s 134us/step - loss: 0.0746 - accuracy: 0.9756 - val_loss: 0.0756 - val_accuracy: 0.9748\n",
            "Epoch 70/150\n",
            "400/400 [==============================] - 0s 132us/step - loss: 0.0733 - accuracy: 0.9753 - val_loss: 0.0742 - val_accuracy: 0.9748\n",
            "Epoch 71/150\n",
            "400/400 [==============================] - 0s 141us/step - loss: 0.0721 - accuracy: 0.9755 - val_loss: 0.0730 - val_accuracy: 0.9760\n",
            "Epoch 72/150\n",
            "400/400 [==============================] - 0s 129us/step - loss: 0.0709 - accuracy: 0.9765 - val_loss: 0.0719 - val_accuracy: 0.9760\n",
            "Epoch 73/150\n",
            "400/400 [==============================] - 0s 159us/step - loss: 0.0698 - accuracy: 0.9765 - val_loss: 0.0708 - val_accuracy: 0.9760\n",
            "Epoch 74/150\n",
            "400/400 [==============================] - 0s 137us/step - loss: 0.0687 - accuracy: 0.9765 - val_loss: 0.0697 - val_accuracy: 0.9760\n",
            "Epoch 75/150\n",
            "400/400 [==============================] - 0s 130us/step - loss: 0.0676 - accuracy: 0.9765 - val_loss: 0.0686 - val_accuracy: 0.9760\n",
            "Epoch 76/150\n",
            "400/400 [==============================] - 0s 132us/step - loss: 0.0666 - accuracy: 0.9765 - val_loss: 0.0674 - val_accuracy: 0.9760\n",
            "Epoch 77/150\n",
            "400/400 [==============================] - 0s 128us/step - loss: 0.0655 - accuracy: 0.9765 - val_loss: 0.0663 - val_accuracy: 0.9760\n",
            "Epoch 78/150\n",
            "400/400 [==============================] - 0s 134us/step - loss: 0.0644 - accuracy: 0.9765 - val_loss: 0.0651 - val_accuracy: 0.9772\n",
            "Epoch 79/150\n",
            "400/400 [==============================] - 0s 128us/step - loss: 0.0632 - accuracy: 0.9780 - val_loss: 0.0640 - val_accuracy: 0.9787\n",
            "Epoch 80/150\n",
            "400/400 [==============================] - 0s 146us/step - loss: 0.0620 - accuracy: 0.9791 - val_loss: 0.0627 - val_accuracy: 0.9787\n",
            "Epoch 81/150\n",
            "400/400 [==============================] - 0s 129us/step - loss: 0.0607 - accuracy: 0.9791 - val_loss: 0.0614 - val_accuracy: 0.9787\n",
            "Epoch 82/150\n",
            "400/400 [==============================] - 0s 135us/step - loss: 0.0594 - accuracy: 0.9791 - val_loss: 0.0601 - val_accuracy: 0.9787\n",
            "Epoch 83/150\n",
            "400/400 [==============================] - 0s 131us/step - loss: 0.0581 - accuracy: 0.9791 - val_loss: 0.0588 - val_accuracy: 0.9787\n",
            "Epoch 84/150\n",
            "400/400 [==============================] - 0s 129us/step - loss: 0.0568 - accuracy: 0.9791 - val_loss: 0.0574 - val_accuracy: 0.9787\n",
            "Epoch 85/150\n",
            "400/400 [==============================] - 0s 156us/step - loss: 0.0555 - accuracy: 0.9791 - val_loss: 0.0561 - val_accuracy: 0.9787\n",
            "Epoch 86/150\n",
            "400/400 [==============================] - 0s 142us/step - loss: 0.0542 - accuracy: 0.9791 - val_loss: 0.0548 - val_accuracy: 0.9787\n",
            "Epoch 87/150\n",
            "400/400 [==============================] - 0s 128us/step - loss: 0.0528 - accuracy: 0.9792 - val_loss: 0.0535 - val_accuracy: 0.9787\n",
            "Epoch 88/150\n",
            "400/400 [==============================] - 0s 130us/step - loss: 0.0514 - accuracy: 0.9792 - val_loss: 0.0516 - val_accuracy: 0.9788\n",
            "Epoch 89/150\n",
            "400/400 [==============================] - 0s 129us/step - loss: 0.0494 - accuracy: 0.9796 - val_loss: 0.0496 - val_accuracy: 0.9792\n",
            "Epoch 90/150\n",
            "400/400 [==============================] - 0s 130us/step - loss: 0.0476 - accuracy: 0.9800 - val_loss: 0.0477 - val_accuracy: 0.9797\n",
            "Epoch 91/150\n",
            "400/400 [==============================] - 0s 128us/step - loss: 0.0458 - accuracy: 0.9803 - val_loss: 0.0459 - val_accuracy: 0.9799\n",
            "Epoch 92/150\n",
            "400/400 [==============================] - 0s 138us/step - loss: 0.0440 - accuracy: 0.9806 - val_loss: 0.0440 - val_accuracy: 0.9804\n",
            "Epoch 93/150\n",
            "400/400 [==============================] - 0s 133us/step - loss: 0.0423 - accuracy: 0.9811 - val_loss: 0.0422 - val_accuracy: 0.9810\n",
            "Epoch 94/150\n",
            "400/400 [==============================] - 0s 132us/step - loss: 0.0405 - accuracy: 0.9817 - val_loss: 0.0406 - val_accuracy: 0.9812\n",
            "Epoch 95/150\n",
            "400/400 [==============================] - 0s 132us/step - loss: 0.0389 - accuracy: 0.9825 - val_loss: 0.0389 - val_accuracy: 0.9827\n",
            "Epoch 96/150\n",
            "400/400 [==============================] - 0s 130us/step - loss: 0.0373 - accuracy: 0.9844 - val_loss: 0.0373 - val_accuracy: 0.9844\n",
            "Epoch 97/150\n",
            "400/400 [==============================] - 0s 129us/step - loss: 0.0358 - accuracy: 0.9854 - val_loss: 0.0358 - val_accuracy: 0.9852\n",
            "Epoch 98/150\n",
            "400/400 [==============================] - 0s 146us/step - loss: 0.0343 - accuracy: 0.9871 - val_loss: 0.0342 - val_accuracy: 0.9879\n",
            "Epoch 99/150\n",
            "400/400 [==============================] - 0s 136us/step - loss: 0.0328 - accuracy: 0.9884 - val_loss: 0.0328 - val_accuracy: 0.9879\n",
            "Epoch 100/150\n",
            "400/400 [==============================] - 0s 130us/step - loss: 0.0313 - accuracy: 0.9897 - val_loss: 0.0313 - val_accuracy: 0.9914\n",
            "Epoch 101/150\n",
            "400/400 [==============================] - 0s 142us/step - loss: 0.0299 - accuracy: 0.9921 - val_loss: 0.0298 - val_accuracy: 0.9922\n",
            "Epoch 102/150\n",
            "400/400 [==============================] - 0s 139us/step - loss: 0.0284 - accuracy: 0.9937 - val_loss: 0.0282 - val_accuracy: 0.9954\n",
            "Epoch 103/150\n",
            "400/400 [==============================] - 0s 151us/step - loss: 0.0268 - accuracy: 0.9954 - val_loss: 0.0266 - val_accuracy: 0.9957\n",
            "Epoch 104/150\n",
            "400/400 [==============================] - 0s 131us/step - loss: 0.0253 - accuracy: 0.9967 - val_loss: 0.0251 - val_accuracy: 0.9970\n",
            "Epoch 105/150\n",
            "400/400 [==============================] - 0s 129us/step - loss: 0.0239 - accuracy: 0.9972 - val_loss: 0.0237 - val_accuracy: 0.9977\n",
            "Epoch 106/150\n",
            "400/400 [==============================] - 0s 127us/step - loss: 0.0227 - accuracy: 0.9976 - val_loss: 0.0225 - val_accuracy: 0.9980\n",
            "Epoch 107/150\n",
            "400/400 [==============================] - 0s 143us/step - loss: 0.0215 - accuracy: 0.9982 - val_loss: 0.0213 - val_accuracy: 0.9986\n",
            "Epoch 108/150\n",
            "400/400 [==============================] - 0s 133us/step - loss: 0.0200 - accuracy: 0.9987 - val_loss: 0.0196 - val_accuracy: 0.9990\n",
            "Epoch 109/150\n",
            "400/400 [==============================] - 0s 134us/step - loss: 0.0185 - accuracy: 0.9991 - val_loss: 0.0181 - val_accuracy: 0.9993\n",
            "Epoch 110/150\n",
            "400/400 [==============================] - 0s 128us/step - loss: 0.0172 - accuracy: 0.9994 - val_loss: 0.0169 - val_accuracy: 0.9994\n",
            "Epoch 111/150\n",
            "400/400 [==============================] - 0s 131us/step - loss: 0.0160 - accuracy: 0.9995 - val_loss: 0.0158 - val_accuracy: 0.9995\n",
            "Epoch 112/150\n",
            "400/400 [==============================] - 0s 128us/step - loss: 0.0150 - accuracy: 0.9996 - val_loss: 0.0148 - val_accuracy: 0.9996\n",
            "Epoch 113/150\n",
            "400/400 [==============================] - 0s 134us/step - loss: 0.0141 - accuracy: 0.9998 - val_loss: 0.0140 - val_accuracy: 0.9998\n",
            "Epoch 114/150\n",
            "400/400 [==============================] - 0s 128us/step - loss: 0.0133 - accuracy: 0.9999 - val_loss: 0.0132 - val_accuracy: 0.9999\n",
            "Epoch 115/150\n",
            "400/400 [==============================] - 0s 138us/step - loss: 0.0126 - accuracy: 1.0000 - val_loss: 0.0124 - val_accuracy: 1.0000\n",
            "Epoch 116/150\n",
            "400/400 [==============================] - 0s 158us/step - loss: 0.0119 - accuracy: 1.0000 - val_loss: 0.0118 - val_accuracy: 1.0000\n",
            "Epoch 117/150\n",
            "400/400 [==============================] - 0s 134us/step - loss: 0.0113 - accuracy: 1.0000 - val_loss: 0.0112 - val_accuracy: 1.0000\n",
            "Epoch 118/150\n",
            "400/400 [==============================] - 0s 130us/step - loss: 0.0107 - accuracy: 1.0000 - val_loss: 0.0106 - val_accuracy: 1.0000\n",
            "Epoch 119/150\n",
            "400/400 [==============================] - 0s 130us/step - loss: 0.0102 - accuracy: 1.0000 - val_loss: 0.0101 - val_accuracy: 1.0000\n",
            "Epoch 120/150\n",
            "400/400 [==============================] - 0s 132us/step - loss: 0.0096 - accuracy: 1.0000 - val_loss: 0.0096 - val_accuracy: 1.0000\n",
            "Epoch 121/150\n",
            "400/400 [==============================] - 0s 144us/step - loss: 0.0092 - accuracy: 1.0000 - val_loss: 0.0091 - val_accuracy: 1.0000\n",
            "Epoch 122/150\n",
            "400/400 [==============================] - 0s 148us/step - loss: 0.0087 - accuracy: 1.0000 - val_loss: 0.0087 - val_accuracy: 1.0000\n",
            "Epoch 123/150\n",
            "400/400 [==============================] - 0s 148us/step - loss: 0.0083 - accuracy: 1.0000 - val_loss: 0.0083 - val_accuracy: 1.0000\n",
            "Epoch 124/150\n",
            "400/400 [==============================] - 0s 131us/step - loss: 0.0080 - accuracy: 1.0000 - val_loss: 0.0079 - val_accuracy: 1.0000\n",
            "Epoch 125/150\n",
            "400/400 [==============================] - 0s 129us/step - loss: 0.0076 - accuracy: 1.0000 - val_loss: 0.0075 - val_accuracy: 1.0000\n",
            "Epoch 126/150\n",
            "400/400 [==============================] - 0s 133us/step - loss: 0.0072 - accuracy: 1.0000 - val_loss: 0.0072 - val_accuracy: 1.0000\n",
            "Epoch 127/150\n",
            "400/400 [==============================] - 0s 132us/step - loss: 0.0069 - accuracy: 1.0000 - val_loss: 0.0069 - val_accuracy: 1.0000\n",
            "Epoch 128/150\n",
            "400/400 [==============================] - 0s 135us/step - loss: 0.0066 - accuracy: 1.0000 - val_loss: 0.0066 - val_accuracy: 1.0000\n",
            "Epoch 129/150\n",
            "400/400 [==============================] - 0s 135us/step - loss: 0.0063 - accuracy: 1.0000 - val_loss: 0.0063 - val_accuracy: 1.0000\n",
            "Epoch 130/150\n",
            "400/400 [==============================] - 0s 143us/step - loss: 0.0060 - accuracy: 1.0000 - val_loss: 0.0060 - val_accuracy: 1.0000\n",
            "Epoch 131/150\n",
            "400/400 [==============================] - 0s 133us/step - loss: 0.0058 - accuracy: 1.0000 - val_loss: 0.0058 - val_accuracy: 1.0000\n",
            "Epoch 132/150\n",
            "400/400 [==============================] - 0s 131us/step - loss: 0.0056 - accuracy: 1.0000 - val_loss: 0.0056 - val_accuracy: 1.0000\n",
            "Epoch 133/150\n",
            "400/400 [==============================] - 0s 153us/step - loss: 0.0054 - accuracy: 1.0000 - val_loss: 0.0054 - val_accuracy: 1.0000\n",
            "Epoch 134/150\n",
            "400/400 [==============================] - 0s 130us/step - loss: 0.0051 - accuracy: 1.0000 - val_loss: 0.0052 - val_accuracy: 1.0000\n",
            "Epoch 135/150\n",
            "400/400 [==============================] - 0s 134us/step - loss: 0.0050 - accuracy: 1.0000 - val_loss: 0.0050 - val_accuracy: 1.0000\n",
            "Epoch 136/150\n",
            "400/400 [==============================] - 0s 135us/step - loss: 0.0048 - accuracy: 1.0000 - val_loss: 0.0048 - val_accuracy: 1.0000\n",
            "Epoch 137/150\n",
            "400/400 [==============================] - 0s 137us/step - loss: 0.0046 - accuracy: 1.0000 - val_loss: 0.0046 - val_accuracy: 1.0000\n",
            "Epoch 138/150\n",
            "400/400 [==============================] - 0s 152us/step - loss: 0.0044 - accuracy: 1.0000 - val_loss: 0.0044 - val_accuracy: 1.0000\n",
            "Epoch 139/150\n",
            "400/400 [==============================] - 0s 130us/step - loss: 0.0043 - accuracy: 1.0000 - val_loss: 0.0043 - val_accuracy: 1.0000\n",
            "Epoch 140/150\n",
            "400/400 [==============================] - 0s 128us/step - loss: 0.0041 - accuracy: 1.0000 - val_loss: 0.0041 - val_accuracy: 1.0000\n",
            "Epoch 141/150\n",
            "400/400 [==============================] - 0s 128us/step - loss: 0.0040 - accuracy: 1.0000 - val_loss: 0.0040 - val_accuracy: 1.0000\n",
            "Epoch 142/150\n",
            "400/400 [==============================] - 0s 130us/step - loss: 0.0038 - accuracy: 1.0000 - val_loss: 0.0039 - val_accuracy: 1.0000\n",
            "Epoch 143/150\n",
            "400/400 [==============================] - 0s 133us/step - loss: 0.0037 - accuracy: 1.0000 - val_loss: 0.0037 - val_accuracy: 1.0000\n",
            "Epoch 144/150\n",
            "400/400 [==============================] - 0s 141us/step - loss: 0.0036 - accuracy: 1.0000 - val_loss: 0.0036 - val_accuracy: 1.0000\n",
            "Epoch 145/150\n",
            "400/400 [==============================] - 0s 126us/step - loss: 0.0035 - accuracy: 1.0000 - val_loss: 0.0035 - val_accuracy: 1.0000\n",
            "Epoch 146/150\n",
            "400/400 [==============================] - 0s 131us/step - loss: 0.0034 - accuracy: 1.0000 - val_loss: 0.0034 - val_accuracy: 1.0000\n",
            "Epoch 147/150\n",
            "400/400 [==============================] - 0s 139us/step - loss: 0.0033 - accuracy: 1.0000 - val_loss: 0.0033 - val_accuracy: 1.0000\n",
            "Epoch 148/150\n",
            "400/400 [==============================] - 0s 127us/step - loss: 0.0032 - accuracy: 1.0000 - val_loss: 0.0032 - val_accuracy: 1.0000\n",
            "Epoch 149/150\n",
            "400/400 [==============================] - 0s 124us/step - loss: 0.0031 - accuracy: 1.0000 - val_loss: 0.0031 - val_accuracy: 1.0000\n",
            "Epoch 150/150\n",
            "400/400 [==============================] - 0s 130us/step - loss: 0.0030 - accuracy: 1.0000 - val_loss: 0.0030 - val_accuracy: 1.0000\n"
          ],
          "name": "stdout"
        }
      ]
    },
    {
      "cell_type": "markdown",
      "metadata": {
        "id": "exjYoL4MvCJR",
        "colab_type": "text"
      },
      "source": [
        "## Rules inference from pattern evolution of Game of Life.\n",
        "With the given sets of the pattern evolution of Game of Life with different rules, building a model which can infer the rules. This is essentially a time-series classification problem."
      ]
    },
    {
      "cell_type": "code",
      "metadata": {
        "id": "CV06a3Nol3EY",
        "colab_type": "code",
        "colab": {}
      },
      "source": [
        "def generate_life_series_classified(num_series_list, num_frames, board_shape, prob_alive, N_rebirth_list, edge = 'wrapped'):\n",
        "    assert ( len(num_series_list) == len(N_rebirth_list) ), \"N_rebirth_list should be equal to num_series_list\"    \n",
        "\n",
        "    X = []\n",
        "    Y = []\n",
        "    for n_series, n_rebirth in zip(num_series_list, N_rebirth_list):    \n",
        "      for i_series in range(n_series):\n",
        "        XX = np.array(np.random.choice([False, True], size=board_shape, p=[1-prob_alive, prob_alive])).astype(int)\n",
        "        XX = [ XX.reshape(XX.shape[0], XX.shape[1], 1) ]\n",
        "        Y.append( n_rebirth )\n",
        "        for i in range(num_frames-1):\n",
        "          XX.append( life_step(XX[-1], n_rebirth, edge) )\n",
        "        X.append( XX )\n",
        "\n",
        "    return np.array(X),np.array(Y)"
      ],
      "execution_count": 0,
      "outputs": []
    },
    {
      "cell_type": "code",
      "metadata": {
        "id": "8kOr3CEAvigF",
        "colab_type": "code",
        "colab": {}
      },
      "source": [
        "train_size_list = [1000,1000]\n",
        "num_frames = 20\n",
        "board_shape = (20,20)\n",
        "prob_alive = 0.15\n",
        "N_rebirth_list = [3,4]\n",
        "val_size_list = [200,200]\n",
        "test_size_list = [100,100]\n",
        "X_train, y_train = generate_life_series_classified(train_size_list, num_frames, board_shape, prob_alive, N_rebirth_list, edge = 'wrapped')\n",
        "X_val, y_val = generate_life_series_classified(val_size_list, num_frames, board_shape, prob_alive, N_rebirth_list, edge = 'wrapped')\n",
        "X_test, y_test = generate_life_series_classified(val_size_list, num_frames, board_shape, prob_alive, N_rebirth_list, edge = 'wrapped')"
      ],
      "execution_count": 0,
      "outputs": []
    },
    {
      "cell_type": "code",
      "metadata": {
        "id": "lswTAjKPK26L",
        "colab_type": "code",
        "colab": {
          "base_uri": "https://localhost:8080/",
          "height": 34
        },
        "outputId": "956c9a3a-eaf9-47b9-e2ab-b00cb3fa5cc4"
      },
      "source": [
        "print(X_test.shape, y_test.shape)"
      ],
      "execution_count": 184,
      "outputs": [
        {
          "output_type": "stream",
          "text": [
            "(400, 20, 20, 20, 1) (400,)\n"
          ],
          "name": "stdout"
        }
      ]
    },
    {
      "cell_type": "code",
      "metadata": {
        "id": "dphMaHxeKcn1",
        "colab_type": "code",
        "colab": {}
      },
      "source": [
        "def shuffle_syn( X , y ):\n",
        "  temp = list(zip(X, y)) \n",
        "  random.shuffle(temp) \n",
        "  X , y = zip(*temp)\n",
        "  X = np.array(X)\n",
        "  y = np.array(y)\n",
        "  return X,y\n",
        "\n",
        "X_train, y_train = shuffle_syn( X_train, y_train )\n",
        "X_val, y_val = shuffle_syn( X_val, y_val )\n",
        "X_test, y_test = shuffle_syn( X_test, y_test )"
      ],
      "execution_count": 0,
      "outputs": []
    },
    {
      "cell_type": "code",
      "metadata": {
        "id": "hLwzjYFZh4Cx",
        "colab_type": "code",
        "colab": {}
      },
      "source": [
        "class My_OneHotEncoder():\n",
        "  def __init__(self):\n",
        "    self.__label_encoder = LabelEncoder()\n",
        "    self.__onehot_encoder = OneHotEncoder(sparse=False)\n",
        "\n",
        "  def fit_transform(self,y_train):\n",
        "    integer_encoded = self.__label_encoder.fit_transform(y_train)\n",
        "    integer_encoded = integer_encoded.reshape(len(integer_encoded), 1)\n",
        "    onehot_encoded = self.__onehot_encoder.fit_transform(integer_encoded)\n",
        "    return onehot_encoded\n",
        "\n",
        "  def transform(self,y_train):\n",
        "    integer_encoded = self.__label_encoder.transform(y_train)\n",
        "    integer_encoded = integer_encoded.reshape(len(integer_encoded), 1)\n",
        "    onehot_encoded = self.__onehot_encoder.transform(integer_encoded)\n",
        "    return onehot_encoded\n",
        "\n",
        "  def inverse_transform(self, transformed, from = 'onehot', to = 'class'):\n",
        "    if (from == 'onehot' and to == 'class'):\n",
        "      inverted = self.__label_encoder.inverse_transform([np.argmax(transformed[0, :])])\n",
        "    elif (from == 'label' and to == 'class'):\n",
        "      inverted = self.__label_encoder.inverse_transform( transformed )\n",
        "    elif (from == 'onehot' and to == 'label'):\n",
        "      inverted = np.argmax(transformed[0, :])\n",
        "    else:\n",
        "      raise ValueError('(from, to) must be (onehot,class),(label,class),(onehot,label)')\n",
        "    return inverted\n",
        "\n",
        "  def inverse_transform(self, y_train_label):\n",
        "    inverted = self.__label_encoder.inverse_transform( y_train_label )\n",
        "    return inverted \n",
        "\n",
        " # _label_encoder = LabelEncoder()\n",
        " # _onehot_encoder = OneHotEncoder(sparse=False)   "
      ],
      "execution_count": 0,
      "outputs": []
    },
    {
      "cell_type": "code",
      "metadata": {
        "id": "J5WHYS9ykDWg",
        "colab_type": "code",
        "colab": {}
      },
      "source": [
        "my_encoder = My_OneHotEncoder()\n",
        "y_train_onehot = my_encoder.fit_transform(y_train)\n",
        "y_val_onehot = my_encoder.fit_transform(y_val)\n",
        "y_test_onehot = my_encoder.fit_transform(y_test)"
      ],
      "execution_count": 0,
      "outputs": []
    },
    {
      "cell_type": "markdown",
      "metadata": {
        "id": "nrAJTWDuWZvB",
        "colab_type": "text"
      },
      "source": [
        "### Building CNN–LSTM model for time-series classification\n",
        "https://machinelearningmastery.com/cnn-long-short-term-memory-networks/"
      ]
    },
    {
      "cell_type": "code",
      "metadata": {
        "id": "UTsYBLPM9iYl",
        "colab_type": "code",
        "colab": {}
      },
      "source": [
        "# CNN Properties\n",
        "filters = 32\n",
        "kernel_size = (3, 3) # look at all 8 neighboring cells, plus itself\n",
        "strides = 1\n",
        "hidden_dims = 100\n",
        "input_shape = (None ,board_shape[0] + 2, board_shape[1] + 2, 1) if edge == 'wrapped'   else (num_frames ,board_shape[0], board_shape[1], 1)"
      ],
      "execution_count": 0,
      "outputs": []
    },
    {
      "cell_type": "code",
      "metadata": {
        "id": "rO0SE-jG9V11",
        "colab_type": "code",
        "colab": {}
      },
      "source": [
        "model = Sequential()\n",
        "\n",
        "model.add(TimeDistributed(Conv2D(filters, \n",
        "    kernel_size,\n",
        "    padding='valid',\n",
        "    activation='relu',\n",
        "    strides=strides,\n",
        "    input_shape=input_shape)))\n",
        "\n",
        "model.add(TimeDistributed(MaxPool2D( pool_size=(2, 2) )))\n",
        "model.add(TimeDistributed(Flatten()))\n",
        "# define RNN model\n",
        "#model.add(LSTM(units=10))\n",
        "#model.add(SimpleRNN(units=10))\n",
        "model.add(LSTM(units=10))\n",
        "model.add(Dropout(0.2))\n",
        "model.add(Dense(units=hidden_dims,activation='relu'))\n",
        "model.add(Dropout(0.2))\n",
        "model.add(Dense(units=2, kernel_initializer='normal', activation='softmax' ))\n",
        "\n",
        "model.compile(loss='categorical_crossentropy', optimizer='adam', metrics=['accuracy'])\n"
      ],
      "execution_count": 0,
      "outputs": []
    },
    {
      "cell_type": "code",
      "metadata": {
        "id": "RXNNjzUV4LRr",
        "colab_type": "code",
        "colab": {
          "base_uri": "https://localhost:8080/",
          "height": 425
        },
        "outputId": "42df34e6-f256-4a47-edd2-012762a07b26"
      },
      "source": [
        "model.build((None,) + input_shape)\n",
        "model.summary()"
      ],
      "execution_count": 243,
      "outputs": [
        {
          "output_type": "stream",
          "text": [
            "Model: \"sequential_30\"\n",
            "_________________________________________________________________\n",
            "Layer (type)                 Output Shape              Param #   \n",
            "=================================================================\n",
            "time_distributed_79 (TimeDis (None, None, 20, 20, 32)  320       \n",
            "_________________________________________________________________\n",
            "time_distributed_80 (TimeDis (None, None, 10, 10, 32)  0         \n",
            "_________________________________________________________________\n",
            "time_distributed_81 (TimeDis (None, None, 3200)        0         \n",
            "_________________________________________________________________\n",
            "lstm_2 (LSTM)                (None, 10)                128440    \n",
            "_________________________________________________________________\n",
            "dropout_29 (Dropout)         (None, 10)                0         \n",
            "_________________________________________________________________\n",
            "dense_53 (Dense)             (None, 100)               1100      \n",
            "_________________________________________________________________\n",
            "dropout_30 (Dropout)         (None, 100)               0         \n",
            "_________________________________________________________________\n",
            "dense_54 (Dense)             (None, 2)                 202       \n",
            "=================================================================\n",
            "Total params: 130,062\n",
            "Trainable params: 130,062\n",
            "Non-trainable params: 0\n",
            "_________________________________________________________________\n"
          ],
          "name": "stdout"
        }
      ]
    },
    {
      "cell_type": "code",
      "metadata": {
        "id": "AbM2wKjVvBdw",
        "colab_type": "code",
        "colab": {}
      },
      "source": [
        "def reshape_input_series(X):\n",
        "    return X.reshape(X.shape[0], X.shape[1], X.shape[2], X.shape[3], 1)\n",
        "def pad_input(X):\n",
        "    return np.array([\n",
        "        np.pad(x.reshape(board_shape), (1,1), mode='wrap')\n",
        "        for XX in X for x in XX \n",
        "    ]).reshape( X.shape[0], X.shape[1],X.shape[2]+2, X.shape[3]+2, 1)\n",
        "def train(model, X_train, y_train_onehot, X_val, y_val_onehot, batch_size=50, epochs=100, edge = 'wrapped' ):\n",
        "    X_train = pad_input(X_train) if edge == 'wrapped' else X_train\n",
        "    X_val = pad_input(X_val) if edge == 'wrapped' else X_val\n",
        "    print(X_train.shape,X_val.shape)\n",
        "    history = model.fit(\n",
        "              X_train, y_train_onehot, \n",
        "              batch_size=batch_size, \n",
        "              epochs=epochs,\n",
        "              validation_data=(X_val, y_val_onehot)\n",
        "              )\n",
        "      \n",
        "    return history"
      ],
      "execution_count": 0,
      "outputs": []
    },
    {
      "cell_type": "code",
      "metadata": {
        "id": "_bwwSja4eJAM",
        "colab_type": "code",
        "colab": {
          "base_uri": "https://localhost:8080/",
          "height": 1000
        },
        "outputId": "f0f64a5d-ee0c-4463-b0d4-f966d9ecbf56"
      },
      "source": [
        "history = train(model, X_train, y_train_onehot, X_val, y_val_onehot)"
      ],
      "execution_count": 236,
      "outputs": [
        {
          "output_type": "stream",
          "text": [
            "(2000, 20, 22, 22, 1) (400, 20, 22, 22, 1)\n",
            "Train on 2000 samples, validate on 400 samples\n",
            "Epoch 1/100\n",
            "2000/2000 [==============================] - 2s 1ms/step - loss: 0.4686 - accuracy: 0.8370 - val_loss: 0.3302 - val_accuracy: 0.9850\n",
            "Epoch 2/100\n",
            "2000/2000 [==============================] - 2s 855us/step - loss: 0.1776 - accuracy: 0.9865 - val_loss: 0.0284 - val_accuracy: 0.9925\n",
            "Epoch 3/100\n",
            "2000/2000 [==============================] - 2s 878us/step - loss: 0.0511 - accuracy: 0.9900 - val_loss: 0.0232 - val_accuracy: 0.9875\n",
            "Epoch 4/100\n",
            "2000/2000 [==============================] - 2s 888us/step - loss: 0.0345 - accuracy: 0.9905 - val_loss: 0.0927 - val_accuracy: 0.9800\n",
            "Epoch 5/100\n",
            "2000/2000 [==============================] - 2s 844us/step - loss: 0.0355 - accuracy: 0.9895 - val_loss: 0.0507 - val_accuracy: 0.9850\n",
            "Epoch 6/100\n",
            "2000/2000 [==============================] - 2s 846us/step - loss: 0.0205 - accuracy: 0.9950 - val_loss: 0.0217 - val_accuracy: 0.9925\n",
            "Epoch 7/100\n",
            "2000/2000 [==============================] - 2s 903us/step - loss: 0.0177 - accuracy: 0.9955 - val_loss: 0.0137 - val_accuracy: 0.9975\n",
            "Epoch 8/100\n",
            "2000/2000 [==============================] - 2s 850us/step - loss: 0.0175 - accuracy: 0.9965 - val_loss: 0.0224 - val_accuracy: 0.9925\n",
            "Epoch 9/100\n",
            "2000/2000 [==============================] - 2s 882us/step - loss: 0.0100 - accuracy: 0.9970 - val_loss: 0.0220 - val_accuracy: 0.9950\n",
            "Epoch 10/100\n",
            "2000/2000 [==============================] - 2s 870us/step - loss: 0.0128 - accuracy: 0.9975 - val_loss: 0.0202 - val_accuracy: 0.9925\n",
            "Epoch 11/100\n",
            "2000/2000 [==============================] - 2s 854us/step - loss: 0.0142 - accuracy: 0.9965 - val_loss: 0.0209 - val_accuracy: 0.9900\n",
            "Epoch 12/100\n",
            "2000/2000 [==============================] - 2s 900us/step - loss: 0.0089 - accuracy: 0.9960 - val_loss: 0.0114 - val_accuracy: 0.9925\n",
            "Epoch 13/100\n",
            "2000/2000 [==============================] - 2s 882us/step - loss: 0.0094 - accuracy: 0.9975 - val_loss: 0.0092 - val_accuracy: 0.9925\n",
            "Epoch 14/100\n",
            "2000/2000 [==============================] - 2s 847us/step - loss: 0.0048 - accuracy: 0.9975 - val_loss: 0.0032 - val_accuracy: 0.9975\n",
            "Epoch 15/100\n",
            "2000/2000 [==============================] - 2s 902us/step - loss: 0.0086 - accuracy: 0.9980 - val_loss: 0.0086 - val_accuracy: 0.9950\n",
            "Epoch 16/100\n",
            "2000/2000 [==============================] - 2s 873us/step - loss: 0.0034 - accuracy: 0.9990 - val_loss: 0.0069 - val_accuracy: 0.9975\n",
            "Epoch 17/100\n",
            "2000/2000 [==============================] - 2s 855us/step - loss: 0.0029 - accuracy: 0.9995 - val_loss: 0.0057 - val_accuracy: 0.9975\n",
            "Epoch 18/100\n",
            "2000/2000 [==============================] - 2s 870us/step - loss: 0.0018 - accuracy: 0.9990 - val_loss: 0.0234 - val_accuracy: 0.9900\n",
            "Epoch 19/100\n",
            "2000/2000 [==============================] - 2s 856us/step - loss: 0.0015 - accuracy: 0.9995 - val_loss: 0.0032 - val_accuracy: 0.9975\n",
            "Epoch 20/100\n",
            "2000/2000 [==============================] - 2s 875us/step - loss: 6.3814e-04 - accuracy: 1.0000 - val_loss: 0.0032 - val_accuracy: 0.9975\n",
            "Epoch 21/100\n",
            "2000/2000 [==============================] - 2s 905us/step - loss: 4.1699e-04 - accuracy: 1.0000 - val_loss: 0.0045 - val_accuracy: 0.9975\n",
            "Epoch 22/100\n",
            "2000/2000 [==============================] - 2s 855us/step - loss: 3.5461e-04 - accuracy: 1.0000 - val_loss: 0.0065 - val_accuracy: 0.9975\n",
            "Epoch 23/100\n",
            "2000/2000 [==============================] - 2s 843us/step - loss: 4.7184e-04 - accuracy: 1.0000 - val_loss: 0.0121 - val_accuracy: 0.9950\n",
            "Epoch 24/100\n",
            "2000/2000 [==============================] - 2s 843us/step - loss: 5.6005e-04 - accuracy: 1.0000 - val_loss: 0.0036 - val_accuracy: 0.9975\n",
            "Epoch 25/100\n",
            "2000/2000 [==============================] - 2s 858us/step - loss: 0.0018 - accuracy: 0.9995 - val_loss: 0.0045 - val_accuracy: 0.9975\n",
            "Epoch 26/100\n",
            "2000/2000 [==============================] - 2s 868us/step - loss: 0.0137 - accuracy: 0.9960 - val_loss: 0.0069 - val_accuracy: 0.9950\n",
            "Epoch 27/100\n",
            "2000/2000 [==============================] - 2s 913us/step - loss: 0.0113 - accuracy: 0.9970 - val_loss: 0.0274 - val_accuracy: 0.9925\n",
            "Epoch 28/100\n",
            "2000/2000 [==============================] - 2s 857us/step - loss: 0.0033 - accuracy: 0.9995 - val_loss: 0.0115 - val_accuracy: 0.9950\n",
            "Epoch 29/100\n",
            "2000/2000 [==============================] - 2s 876us/step - loss: 0.0030 - accuracy: 0.9985 - val_loss: 0.0661 - val_accuracy: 0.9825\n",
            "Epoch 30/100\n",
            "2000/2000 [==============================] - 2s 869us/step - loss: 0.0052 - accuracy: 0.9980 - val_loss: 0.0230 - val_accuracy: 0.9925\n",
            "Epoch 31/100\n",
            "2000/2000 [==============================] - 2s 853us/step - loss: 0.0018 - accuracy: 0.9995 - val_loss: 0.0351 - val_accuracy: 0.9900\n",
            "Epoch 32/100\n",
            "2000/2000 [==============================] - 2s 839us/step - loss: 8.9696e-04 - accuracy: 1.0000 - val_loss: 0.0120 - val_accuracy: 0.9950\n",
            "Epoch 33/100\n",
            "2000/2000 [==============================] - 2s 845us/step - loss: 3.7672e-04 - accuracy: 1.0000 - val_loss: 0.0170 - val_accuracy: 0.9925\n",
            "Epoch 34/100\n",
            "2000/2000 [==============================] - 2s 847us/step - loss: 3.1994e-04 - accuracy: 1.0000 - val_loss: 0.0115 - val_accuracy: 0.9950\n",
            "Epoch 35/100\n",
            "2000/2000 [==============================] - 2s 850us/step - loss: 3.4245e-04 - accuracy: 1.0000 - val_loss: 0.0097 - val_accuracy: 0.9975\n",
            "Epoch 36/100\n",
            "2000/2000 [==============================] - 2s 877us/step - loss: 2.0557e-04 - accuracy: 1.0000 - val_loss: 0.0097 - val_accuracy: 0.9975\n",
            "Epoch 37/100\n",
            "2000/2000 [==============================] - 2s 878us/step - loss: 1.6292e-04 - accuracy: 1.0000 - val_loss: 0.0100 - val_accuracy: 0.9975\n",
            "Epoch 38/100\n",
            "2000/2000 [==============================] - 2s 873us/step - loss: 2.0220e-04 - accuracy: 1.0000 - val_loss: 0.0101 - val_accuracy: 0.9975\n",
            "Epoch 39/100\n",
            "2000/2000 [==============================] - 2s 884us/step - loss: 2.9591e-04 - accuracy: 1.0000 - val_loss: 0.0098 - val_accuracy: 0.9975\n",
            "Epoch 40/100\n",
            "2000/2000 [==============================] - 2s 870us/step - loss: 6.8636e-04 - accuracy: 0.9995 - val_loss: 0.0103 - val_accuracy: 0.9975\n",
            "Epoch 41/100\n",
            "2000/2000 [==============================] - 2s 878us/step - loss: 1.8905e-04 - accuracy: 1.0000 - val_loss: 0.0126 - val_accuracy: 0.9950\n",
            "Epoch 42/100\n",
            "2000/2000 [==============================] - 2s 835us/step - loss: 1.2174e-04 - accuracy: 1.0000 - val_loss: 0.0117 - val_accuracy: 0.9950\n",
            "Epoch 43/100\n",
            "2000/2000 [==============================] - 2s 884us/step - loss: 3.0994e-04 - accuracy: 1.0000 - val_loss: 0.0339 - val_accuracy: 0.9925\n",
            "Epoch 44/100\n",
            "2000/2000 [==============================] - 2s 888us/step - loss: 2.1804e-04 - accuracy: 1.0000 - val_loss: 0.0270 - val_accuracy: 0.9925\n",
            "Epoch 45/100\n",
            "2000/2000 [==============================] - 2s 856us/step - loss: 7.8924e-05 - accuracy: 1.0000 - val_loss: 0.0223 - val_accuracy: 0.9950\n",
            "Epoch 46/100\n",
            "2000/2000 [==============================] - 2s 851us/step - loss: 9.9455e-05 - accuracy: 1.0000 - val_loss: 0.0225 - val_accuracy: 0.9950\n",
            "Epoch 47/100\n",
            "2000/2000 [==============================] - 2s 856us/step - loss: 1.5263e-04 - accuracy: 1.0000 - val_loss: 0.0258 - val_accuracy: 0.9950\n",
            "Epoch 48/100\n",
            "2000/2000 [==============================] - 2s 889us/step - loss: 6.0899e-05 - accuracy: 1.0000 - val_loss: 0.0267 - val_accuracy: 0.9950\n",
            "Epoch 49/100\n",
            "2000/2000 [==============================] - 2s 841us/step - loss: 8.1874e-05 - accuracy: 1.0000 - val_loss: 0.0294 - val_accuracy: 0.9925\n",
            "Epoch 50/100\n",
            "2000/2000 [==============================] - 2s 858us/step - loss: 5.9532e-05 - accuracy: 1.0000 - val_loss: 0.0272 - val_accuracy: 0.9925\n",
            "Epoch 51/100\n",
            "2000/2000 [==============================] - 2s 893us/step - loss: 3.1020e-04 - accuracy: 1.0000 - val_loss: 0.0160 - val_accuracy: 0.9950\n",
            "Epoch 52/100\n",
            "2000/2000 [==============================] - 2s 871us/step - loss: 5.3376e-05 - accuracy: 1.0000 - val_loss: 0.0110 - val_accuracy: 0.9975\n",
            "Epoch 53/100\n",
            "2000/2000 [==============================] - 2s 891us/step - loss: 9.0768e-05 - accuracy: 1.0000 - val_loss: 0.0104 - val_accuracy: 0.9975\n",
            "Epoch 54/100\n",
            "2000/2000 [==============================] - 2s 864us/step - loss: 7.1461e-05 - accuracy: 1.0000 - val_loss: 0.0112 - val_accuracy: 0.9975\n",
            "Epoch 55/100\n",
            "2000/2000 [==============================] - 2s 837us/step - loss: 9.9698e-05 - accuracy: 1.0000 - val_loss: 0.0153 - val_accuracy: 0.9950\n",
            "Epoch 56/100\n",
            "2000/2000 [==============================] - 2s 878us/step - loss: 3.1844e-04 - accuracy: 1.0000 - val_loss: 0.0234 - val_accuracy: 0.9950\n",
            "Epoch 57/100\n",
            "2000/2000 [==============================] - 2s 898us/step - loss: 6.0866e-05 - accuracy: 1.0000 - val_loss: 0.0247 - val_accuracy: 0.9950\n",
            "Epoch 58/100\n",
            "2000/2000 [==============================] - 2s 849us/step - loss: 7.9184e-05 - accuracy: 1.0000 - val_loss: 0.0250 - val_accuracy: 0.9950\n",
            "Epoch 59/100\n",
            "2000/2000 [==============================] - 2s 827us/step - loss: 5.7997e-05 - accuracy: 1.0000 - val_loss: 0.0244 - val_accuracy: 0.9950\n",
            "Epoch 60/100\n",
            "2000/2000 [==============================] - 2s 858us/step - loss: 1.4937e-04 - accuracy: 1.0000 - val_loss: 0.0311 - val_accuracy: 0.9925\n",
            "Epoch 61/100\n",
            "2000/2000 [==============================] - 2s 849us/step - loss: 4.5288e-05 - accuracy: 1.0000 - val_loss: 0.0305 - val_accuracy: 0.9925\n",
            "Epoch 62/100\n",
            "2000/2000 [==============================] - 2s 832us/step - loss: 2.9647e-05 - accuracy: 1.0000 - val_loss: 0.0296 - val_accuracy: 0.9925\n",
            "Epoch 63/100\n",
            "2000/2000 [==============================] - 2s 862us/step - loss: 5.5074e-05 - accuracy: 1.0000 - val_loss: 0.0278 - val_accuracy: 0.9950\n",
            "Epoch 64/100\n",
            "2000/2000 [==============================] - 2s 853us/step - loss: 3.8649e-05 - accuracy: 1.0000 - val_loss: 0.0267 - val_accuracy: 0.9950\n",
            "Epoch 65/100\n",
            "2000/2000 [==============================] - 2s 843us/step - loss: 4.6815e-05 - accuracy: 1.0000 - val_loss: 0.0284 - val_accuracy: 0.9950\n",
            "Epoch 66/100\n",
            "2000/2000 [==============================] - 2s 856us/step - loss: 3.5074e-05 - accuracy: 1.0000 - val_loss: 0.0283 - val_accuracy: 0.9950\n",
            "Epoch 67/100\n",
            "2000/2000 [==============================] - 2s 840us/step - loss: 1.2034e-04 - accuracy: 1.0000 - val_loss: 0.0148 - val_accuracy: 0.9950\n",
            "Epoch 68/100\n",
            "2000/2000 [==============================] - 2s 837us/step - loss: 4.9164e-05 - accuracy: 1.0000 - val_loss: 0.0147 - val_accuracy: 0.9950\n",
            "Epoch 69/100\n",
            "2000/2000 [==============================] - 2s 864us/step - loss: 3.2460e-05 - accuracy: 1.0000 - val_loss: 0.0161 - val_accuracy: 0.9950\n",
            "Epoch 70/100\n",
            "2000/2000 [==============================] - 2s 858us/step - loss: 5.6471e-05 - accuracy: 1.0000 - val_loss: 0.0142 - val_accuracy: 0.9950\n",
            "Epoch 71/100\n",
            "2000/2000 [==============================] - 2s 843us/step - loss: 2.7083e-05 - accuracy: 1.0000 - val_loss: 0.0129 - val_accuracy: 0.9950\n",
            "Epoch 72/100\n",
            "2000/2000 [==============================] - 2s 843us/step - loss: 6.9702e-05 - accuracy: 1.0000 - val_loss: 0.0140 - val_accuracy: 0.9950\n",
            "Epoch 73/100\n",
            "2000/2000 [==============================] - 2s 849us/step - loss: 0.0058 - accuracy: 0.9980 - val_loss: 0.1219 - val_accuracy: 0.9750\n",
            "Epoch 74/100\n",
            "2000/2000 [==============================] - 2s 840us/step - loss: 0.0430 - accuracy: 0.9930 - val_loss: 0.0310 - val_accuracy: 0.9925\n",
            "Epoch 75/100\n",
            "2000/2000 [==============================] - 2s 877us/step - loss: 0.0186 - accuracy: 0.9960 - val_loss: 0.0206 - val_accuracy: 0.9950\n",
            "Epoch 76/100\n",
            "2000/2000 [==============================] - 2s 882us/step - loss: 0.0132 - accuracy: 0.9970 - val_loss: 0.0820 - val_accuracy: 0.9825\n",
            "Epoch 77/100\n",
            "2000/2000 [==============================] - 2s 832us/step - loss: 0.0050 - accuracy: 0.9990 - val_loss: 0.0182 - val_accuracy: 0.9975\n",
            "Epoch 78/100\n",
            "2000/2000 [==============================] - 2s 844us/step - loss: 0.0023 - accuracy: 0.9995 - val_loss: 0.0392 - val_accuracy: 0.9850\n",
            "Epoch 79/100\n",
            "2000/2000 [==============================] - 2s 860us/step - loss: 9.9830e-04 - accuracy: 1.0000 - val_loss: 9.5987e-04 - val_accuracy: 1.0000\n",
            "Epoch 80/100\n",
            "2000/2000 [==============================] - 2s 846us/step - loss: 4.2553e-04 - accuracy: 1.0000 - val_loss: 5.6878e-04 - val_accuracy: 1.0000\n",
            "Epoch 81/100\n",
            "2000/2000 [==============================] - 2s 885us/step - loss: 2.8584e-04 - accuracy: 1.0000 - val_loss: 0.0030 - val_accuracy: 1.0000\n",
            "Epoch 82/100\n",
            "2000/2000 [==============================] - 2s 859us/step - loss: 9.5042e-04 - accuracy: 0.9995 - val_loss: 2.8086e-04 - val_accuracy: 1.0000\n",
            "Epoch 83/100\n",
            "2000/2000 [==============================] - 2s 866us/step - loss: 6.2466e-04 - accuracy: 0.9995 - val_loss: 0.0127 - val_accuracy: 0.9925\n",
            "Epoch 84/100\n",
            "2000/2000 [==============================] - 2s 874us/step - loss: 1.9399e-04 - accuracy: 1.0000 - val_loss: 0.0134 - val_accuracy: 0.9925\n",
            "Epoch 85/100\n",
            "2000/2000 [==============================] - 2s 870us/step - loss: 2.9320e-04 - accuracy: 1.0000 - val_loss: 0.0183 - val_accuracy: 0.9925\n",
            "Epoch 86/100\n",
            "2000/2000 [==============================] - 2s 856us/step - loss: 1.1062e-04 - accuracy: 1.0000 - val_loss: 0.0160 - val_accuracy: 0.9925\n",
            "Epoch 87/100\n",
            "2000/2000 [==============================] - 2s 858us/step - loss: 1.1234e-04 - accuracy: 1.0000 - val_loss: 0.0118 - val_accuracy: 0.9950\n",
            "Epoch 88/100\n",
            "2000/2000 [==============================] - 2s 858us/step - loss: 1.2312e-04 - accuracy: 1.0000 - val_loss: 0.0087 - val_accuracy: 0.9975\n",
            "Epoch 89/100\n",
            "2000/2000 [==============================] - 2s 869us/step - loss: 1.2189e-04 - accuracy: 1.0000 - val_loss: 0.0078 - val_accuracy: 0.9975\n",
            "Epoch 90/100\n",
            "2000/2000 [==============================] - 2s 860us/step - loss: 7.0635e-05 - accuracy: 1.0000 - val_loss: 0.0068 - val_accuracy: 0.9975\n",
            "Epoch 91/100\n",
            "2000/2000 [==============================] - 2s 844us/step - loss: 5.0861e-05 - accuracy: 1.0000 - val_loss: 0.0060 - val_accuracy: 0.9975\n",
            "Epoch 92/100\n",
            "2000/2000 [==============================] - 2s 852us/step - loss: 8.6984e-05 - accuracy: 1.0000 - val_loss: 0.0054 - val_accuracy: 0.9975\n",
            "Epoch 93/100\n",
            "2000/2000 [==============================] - 2s 875us/step - loss: 1.5541e-04 - accuracy: 1.0000 - val_loss: 0.0044 - val_accuracy: 0.9975\n",
            "Epoch 94/100\n",
            "2000/2000 [==============================] - 2s 870us/step - loss: 9.4011e-05 - accuracy: 1.0000 - val_loss: 0.0036 - val_accuracy: 0.9975\n",
            "Epoch 95/100\n",
            "2000/2000 [==============================] - 2s 862us/step - loss: 8.7491e-05 - accuracy: 1.0000 - val_loss: 0.0032 - val_accuracy: 0.9975\n",
            "Epoch 96/100\n",
            "2000/2000 [==============================] - 2s 863us/step - loss: 5.0040e-05 - accuracy: 1.0000 - val_loss: 0.0037 - val_accuracy: 0.9975\n",
            "Epoch 97/100\n",
            "2000/2000 [==============================] - 2s 877us/step - loss: 3.8195e-05 - accuracy: 1.0000 - val_loss: 0.0029 - val_accuracy: 0.9975\n",
            "Epoch 98/100\n",
            "2000/2000 [==============================] - 2s 862us/step - loss: 5.8564e-05 - accuracy: 1.0000 - val_loss: 0.0023 - val_accuracy: 0.9975\n",
            "Epoch 99/100\n",
            "2000/2000 [==============================] - 2s 850us/step - loss: 3.3505e-05 - accuracy: 1.0000 - val_loss: 0.0022 - val_accuracy: 0.9975\n",
            "Epoch 100/100\n",
            "2000/2000 [==============================] - 2s 831us/step - loss: 5.3816e-05 - accuracy: 1.0000 - val_loss: 0.0025 - val_accuracy: 0.9975\n"
          ],
          "name": "stdout"
        }
      ]
    },
    {
      "cell_type": "code",
      "metadata": {
        "id": "M0fSAH_NeIzu",
        "colab_type": "code",
        "colab": {}
      },
      "source": [
        "# define the function of plotting training history\n",
        "def show_train_history(train_history, train , validation):\n",
        "    plt.plot(train_history.history[train])\n",
        "    plt.plot(train_history.history[validation])\n",
        "    plt.title('Train History')\n",
        "    plt.ylabel(train)\n",
        "    plt.xlabel('Epoch')\n",
        "    plt.legend(['train','validation'], loc='upper left')\n",
        "    plt.show()"
      ],
      "execution_count": 0,
      "outputs": []
    },
    {
      "cell_type": "code",
      "metadata": {
        "id": "BJzFuLJbvBRz",
        "colab_type": "code",
        "colab": {
          "base_uri": "https://localhost:8080/",
          "height": 295
        },
        "outputId": "ea5e7eb8-e466-4ad7-b7a4-449cf4e3a2cd"
      },
      "source": [
        "show_train_history( history , 'accuracy' , 'val_accuracy')"
      ],
      "execution_count": 238,
      "outputs": [
        {
          "output_type": "display_data",
          "data": {
            "image/png": "[encoded data removed]",
            "text/plain": [
              "<Figure size 432x288 with 1 Axes>"
            ]
          },
          "metadata": {
            "tags": [],
            "needs_background": "light"
          }
        }
      ]
    },
    {
      "cell_type": "code",
      "metadata": {
        "id": "qHBKuK54zWPm",
        "colab_type": "code",
        "colab": {}
      },
      "source": [
        "prediction = model.predict_classes( pad_input(X_val) )"
      ],
      "execution_count": 0,
      "outputs": []
    },
    {
      "cell_type": "code",
      "metadata": {
        "id": "lHPWPw9IzLt-",
        "colab_type": "code",
        "colab": {
          "base_uri": "https://localhost:8080/",
          "height": 142
        },
        "outputId": "0ca5edcf-9777-4758-a876-d1839f7fe4dd"
      },
      "source": [
        "pd.crosstab( y_val, prediction , rownames=['label'], colnames=['predict'])"
      ],
      "execution_count": 240,
      "outputs": [
        {
          "output_type": "execute_result",
          "data": {
            "text/html": [
              "<div>\n",
              "<style scoped>\n",
              "    .dataframe tbody tr th:only-of-type {\n",
              "        vertical-align: middle;\n",
              "    }\n",
              "\n",
              "    .dataframe tbody tr th {\n",
              "        vertical-align: top;\n",
              "    }\n",
              "\n",
              "    .dataframe thead th {\n",
              "        text-align: right;\n",
              "    }\n",
              "</style>\n",
              "<table border=\"1\" class=\"dataframe\">\n",
              "  <thead>\n",
              "    <tr style=\"text-align: right;\">\n",
              "      <th>predict</th>\n",
              "      <th>0</th>\n",
              "      <th>1</th>\n",
              "    </tr>\n",
              "    <tr>\n",
              "      <th>label</th>\n",
              "      <th></th>\n",
              "      <th></th>\n",
              "    </tr>\n",
              "  </thead>\n",
              "  <tbody>\n",
              "    <tr>\n",
              "      <th>3</th>\n",
              "      <td>200</td>\n",
              "      <td>0</td>\n",
              "    </tr>\n",
              "    <tr>\n",
              "      <th>4</th>\n",
              "      <td>1</td>\n",
              "      <td>199</td>\n",
              "    </tr>\n",
              "  </tbody>\n",
              "</table>\n",
              "</div>"
            ],
            "text/plain": [
              "predict    0    1\n",
              "label            \n",
              "3        200    0\n",
              "4          1  199"
            ]
          },
          "metadata": {
            "tags": []
          },
          "execution_count": 240
        }
      ]
    },
    {
      "cell_type": "code",
      "metadata": {
        "id": "FONWmxdIzLku",
        "colab_type": "code",
        "colab": {}
      },
      "source": [
        ""
      ],
      "execution_count": 0,
      "outputs": []
    },
    {
      "cell_type": "code",
      "metadata": {
        "id": "WJ-mAg0fqT_d",
        "colab_type": "code",
        "colab": {}
      },
      "source": [
        ""
      ],
      "execution_count": 0,
      "outputs": []
    }
  ]
}